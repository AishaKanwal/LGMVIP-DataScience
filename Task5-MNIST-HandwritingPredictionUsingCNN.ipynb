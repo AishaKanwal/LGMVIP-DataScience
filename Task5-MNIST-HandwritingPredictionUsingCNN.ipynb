{
  "cells": [
    {
      "cell_type": "markdown",
      "metadata": {
        "id": "view-in-github",
        "colab_type": "text"
      },
      "source": [
        "<a href=\"https://colab.research.google.com/github/AishaKanwal/LGMVIP-DataScience/blob/main/Task5-MNIST-HandwritingPredictionUsingCNN.ipynb\" target=\"_parent\"><img src=\"https://colab.research.google.com/assets/colab-badge.svg\" alt=\"Open In Colab\"/></a>"
      ]
    },
    {
      "cell_type": "markdown",
      "metadata": {
        "id": "lwI4T5MYwlDx"
      },
      "source": [
        "# **LetsGrowMore - VirtualInternshipProgram - LGMVIP | DataScienceInternship**\n",
        "> **Task 5 - Develop a Neural Network that can Read Handwriting**\n",
        "\n",
        "> **Aisha Kanwal | Internee**"
      ]
    },
    {
      "cell_type": "code",
      "execution_count": 11,
      "metadata": {
        "id": "FmHa2WHuwlD1"
      },
      "outputs": [],
      "source": [
        "import numpy as np\n",
        "from keras.datasets import mnist\n",
        "\n",
        "# Load the MNIST dataset\n",
        "(x_train, y_train), (x_test, y_test) = mnist.load_data()"
      ]
    },
    {
      "cell_type": "code",
      "source": [
        "import matplotlib.pyplot as plt\n",
        "%matplotlib inline \n",
        "image_index = 7777 \n",
        "print(y_train[image_index])\n",
        "plt.imshow(x_train[image_index], cmap='Greys')"
      ],
      "metadata": {
        "colab": {
          "base_uri": "https://localhost:8080/",
          "height": 465
        },
        "id": "uBkZnevezOmC",
        "outputId": "3c627f51-dce7-4c6e-a685-754bfb8ef3b7"
      },
      "execution_count": 12,
      "outputs": [
        {
          "output_type": "stream",
          "name": "stdout",
          "text": [
            "8\n"
          ]
        },
        {
          "output_type": "execute_result",
          "data": {
            "text/plain": [
              "<matplotlib.image.AxesImage at 0x7fc878161780>"
            ]
          },
          "metadata": {},
          "execution_count": 12
        },
        {
          "output_type": "display_data",
          "data": {
            "text/plain": [
              "<Figure size 640x480 with 1 Axes>"
            ],
            "image/png": "[encoded data removed]"
          },
          "metadata": {}
        }
      ]
    },
    {
      "cell_type": "code",
      "source": [
        "x_train.shape"
      ],
      "metadata": {
        "colab": {
          "base_uri": "https://localhost:8080/"
        },
        "id": "6Jqkjd4Hz4t2",
        "outputId": "624c3716-2f7f-40ae-aefa-c9860d269d6f"
      },
      "execution_count": 13,
      "outputs": [
        {
          "output_type": "execute_result",
          "data": {
            "text/plain": [
              "(60000, 28, 28)"
            ]
          },
          "metadata": {},
          "execution_count": 13
        }
      ]
    },
    {
      "cell_type": "code",
      "source": [
        "# Reshaping the array to 4-dims so that it can work with the Keras API\n",
        "x_train = x_train.reshape(x_train.shape[0], 28, 28, 1)\n",
        "x_test = x_test.reshape(x_test.shape[0], 28, 28, 1)\n",
        "input_shape = (28, 28, 1)\n",
        "# Making sure that the values are float so that we can get decimal points after division\n",
        "x_train = x_train.astype('float32')\n",
        "x_test = x_test.astype('float32')\n",
        "# Normalizing the RGB codes by dividing it to the max RGB value.\n",
        "x_train /= 255\n",
        "x_test /= 255\n",
        "print('x_train shape:', x_train.shape)\n",
        "print('Number of images in x_train', x_train.shape[0])\n",
        "print('Number of images in x_test', x_test.shape[0])"
      ],
      "metadata": {
        "colab": {
          "base_uri": "https://localhost:8080/"
        },
        "id": "NWgAc5FCz-J7",
        "outputId": "1b8fd000-6926-4b7d-8796-52f9cda811ce"
      },
      "execution_count": 14,
      "outputs": [
        {
          "output_type": "stream",
          "name": "stdout",
          "text": [
            "x_train shape: (60000, 28, 28, 1)\n",
            "Number of images in x_train 60000\n",
            "Number of images in x_test 10000\n"
          ]
        }
      ]
    },
    {
      "cell_type": "code",
      "execution_count": 2,
      "metadata": {
        "id": "86pZTZPzwlD2"
      },
      "outputs": [],
      "source": [
        "# Normalize pixel values\n",
        "x_train = x_train.astype('float32') / 255\n",
        "x_test = x_test.astype('float32') / 255\n",
        "\n",
        "# Reshape input data to 4D tensor\n",
        "x_train = np.reshape(x_train, (x_train.shape[0], x_train.shape[1], x_train.shape[2], 1))\n",
        "x_test = np.reshape(x_test, (x_test.shape[0], x_test.shape[1], x_test.shape[2], 1))\n"
      ]
    },
    {
      "cell_type": "code",
      "execution_count": 15,
      "metadata": {
        "id": "fdJs9ki2wlD3"
      },
      "outputs": [],
      "source": [
        "from keras.models import Sequential\n",
        "from keras.layers import Conv2D, MaxPooling2D, Flatten, Dense, Dropout\n",
        "\n",
        "# Define the model\n",
        "model = Sequential()\n",
        "model.add(Conv2D(32, (3, 3), activation='relu', input_shape=(28, 28, 1)))\n",
        "model.add(MaxPooling2D((2, 2)))\n",
        "model.add(Conv2D(64, (3, 3), activation='relu'))\n",
        "model.add(MaxPooling2D((2, 2)))\n",
        "model.add(Conv2D(64, (3, 3), activation='relu'))\n",
        "model.add(Flatten())\n",
        "model.add(Dense(64, activation='relu'))\n",
        "model.add(Dropout(0.5))\n",
        "model.add(Dense(10, activation='softmax'))"
      ]
    },
    {
      "cell_type": "code",
      "execution_count": 16,
      "metadata": {
        "id": "f54M6xqfwlD3"
      },
      "outputs": [],
      "source": [
        "# Compile the model\n",
        "model.compile(optimizer='adam',\n",
        "              loss='sparse_categorical_crossentropy',\n",
        "              metrics=['accuracy'])"
      ]
    },
    {
      "cell_type": "code",
      "execution_count": 17,
      "metadata": {
        "colab": {
          "base_uri": "https://localhost:8080/"
        },
        "id": "9--eghHewlD4",
        "outputId": "c8ef96dc-6089-4738-eed0-173f8ce49d3e"
      },
      "outputs": [
        {
          "output_type": "stream",
          "name": "stdout",
          "text": [
            "Epoch 1/10\n",
            "1875/1875 [==============================] - 76s 40ms/step - loss: 0.2557 - accuracy: 0.9236 - val_loss: 0.0452 - val_accuracy: 0.9855\n",
            "Epoch 2/10\n",
            "1875/1875 [==============================] - 81s 43ms/step - loss: 0.0855 - accuracy: 0.9762 - val_loss: 0.0391 - val_accuracy: 0.9884\n",
            "Epoch 3/10\n",
            "1875/1875 [==============================] - 73s 39ms/step - loss: 0.0590 - accuracy: 0.9844 - val_loss: 0.0342 - val_accuracy: 0.9903\n",
            "Epoch 4/10\n",
            "1875/1875 [==============================] - 75s 40ms/step - loss: 0.0471 - accuracy: 0.9865 - val_loss: 0.0338 - val_accuracy: 0.9894\n",
            "Epoch 5/10\n",
            "1875/1875 [==============================] - 79s 42ms/step - loss: 0.0377 - accuracy: 0.9893 - val_loss: 0.0273 - val_accuracy: 0.9914\n",
            "Epoch 6/10\n",
            "1875/1875 [==============================] - 75s 40ms/step - loss: 0.0325 - accuracy: 0.9906 - val_loss: 0.0311 - val_accuracy: 0.9907\n",
            "Epoch 7/10\n",
            "1875/1875 [==============================] - 81s 43ms/step - loss: 0.0278 - accuracy: 0.9917 - val_loss: 0.0296 - val_accuracy: 0.9924\n",
            "Epoch 8/10\n",
            "1875/1875 [==============================] - 80s 43ms/step - loss: 0.0238 - accuracy: 0.9931 - val_loss: 0.0302 - val_accuracy: 0.9916\n",
            "Epoch 9/10\n",
            "1875/1875 [==============================] - 76s 40ms/step - loss: 0.0232 - accuracy: 0.9933 - val_loss: 0.0355 - val_accuracy: 0.9908\n",
            "Epoch 10/10\n",
            "1875/1875 [==============================] - 69s 37ms/step - loss: 0.0187 - accuracy: 0.9947 - val_loss: 0.0315 - val_accuracy: 0.9929\n",
            "313/313 [==============================] - 3s 10ms/step - loss: 0.0315 - accuracy: 0.9929\n",
            "Test accuracy: 0.992900013923645\n"
          ]
        }
      ],
      "source": [
        "# Train the model\n",
        "model.fit(x_train, y_train, epochs=10, validation_data=(x_test, y_test))\n",
        "\n",
        "# Evaluate the model\n",
        "test_loss, test_acc = model.evaluate(x_test, y_test)\n",
        "print('Test accuracy:', test_acc)"
      ]
    },
    {
      "cell_type": "code",
      "source": [
        "image_index = int(input(\"There are 60,000 images of handwritten digits, write an integer between 1 and 10,000 to see the image at that index and prediction by CNN model \"))\n",
        "plt.imshow(x_test[image_index].reshape(28, 28),cmap='Greys')\n",
        "pred = model.predict(x_test[image_index].reshape(1, 28, 28, 1))\n",
        "print(\"The number is predicted as: \",pred.argmax())"
      ],
      "metadata": {
        "colab": {
          "base_uri": "https://localhost:8080/",
          "height": 502
        },
        "id": "FF6_6rTG0oox",
        "outputId": "768acab4-bf9c-49a0-c1fe-d1714b143100"
      },
      "execution_count": 22,
      "outputs": [
        {
          "output_type": "stream",
          "name": "stdout",
          "text": [
            "There are 60,000 images of handwritten digits, write an integer between 1 and 10,000 to see the image at that index and prediction by CNN model 345\n",
            "1/1 [==============================] - 0s 25ms/step\n",
            "The number is predicted as:  1\n"
          ]
        },
        {
          "output_type": "display_data",
          "data": {
            "text/plain": [
              "<Figure size 640x480 with 1 Axes>"
            ],
            "image/png": "[encoded data removed]"
          },
          "metadata": {}
        }
      ]
    },
    {
      "cell_type": "markdown",
      "metadata": {
        "id": "KzGCVOOWwlD5"
      },
      "source": [
        "**Task 5 - Develop a Neural Network that can Read Handwriting**\n",
        "\n",
        "**Done by Aisha Kanwal**"
      ]
    },
    {
      "cell_type": "code",
      "source": [],
      "metadata": {
        "id": "ju0epgJEzlt4"
      },
      "execution_count": null,
      "outputs": []
    }
  ],
  "metadata": {
    "kernelspec": {
      "display_name": "Python 3.10.4",
      "language": "python",
      "name": "python3"
    },
    "language_info": {
      "codemirror_mode": {
        "name": "ipython",
        "version": 3
      },
      "file_extension": ".py",
      "mimetype": "text/x-python",
      "name": "python",
      "nbconvert_exporter": "python",
      "pygments_lexer": "ipython3",
      "version": "3.10.4"
    },
    "orig_nbformat": 4,
    "vscode": {
      "interpreter": {
        "hash": "8a0d2141c304507630de721f813d5dcfcc63b0347d325866e928773b563f2cc8"
      }
    },
    "colab": {
      "provenance": [],
      "include_colab_link": true
    }
  },
  "nbformat": 4,
  "nbformat_minor": 0
}